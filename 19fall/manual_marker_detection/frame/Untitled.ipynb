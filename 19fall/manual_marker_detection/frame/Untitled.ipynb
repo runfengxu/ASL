{
 "cells": [
  {
   "cell_type": "code",
   "execution_count": 4,
   "metadata": {},
   "outputs": [
    {
     "name": "stdout",
     "output_type": "stream",
     "text": [
      "I found 1 faces in this photo\n"
     ]
    }
   ],
   "source": [
    "from PIL import Image\n",
    "import face_recognition\n",
    "\n",
    "image = face_recognition.load_image_file('2011-12-01_0043-cam2-for-ss3/frame0.jpg')\n",
    "\n",
    "face_locations = face_recognition.face_locations(image,number_of_times_to_upsample=0,model='hog')\n",
    "\n",
    "print('I found {} faces in this photo'.format(len(face_locations)))\n",
    "for face in face_locations:\n",
    "    t,r,b,l = face\n",
    "    face_image = image[t:b,:l:r]\n",
    "    pil_image =Image.fromarray(face_image)\n",
    "    pil_image.show()"
   ]
  },
  {
   "cell_type": "code",
   "execution_count": null,
   "metadata": {},
   "outputs": [],
   "source": []
  }
 ],
 "metadata": {
  "kernelspec": {
   "display_name": "Python 3",
   "language": "python",
   "name": "python3"
  },
  "language_info": {
   "codemirror_mode": {
    "name": "ipython",
    "version": 3
   },
   "file_extension": ".py",
   "mimetype": "text/x-python",
   "name": "python",
   "nbconvert_exporter": "python",
   "pygments_lexer": "ipython3",
   "version": "3.7.3"
  }
 },
 "nbformat": 4,
 "nbformat_minor": 2
}
