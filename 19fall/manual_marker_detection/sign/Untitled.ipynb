{
 "cells": [
  {
   "cell_type": "code",
   "execution_count": 1,
   "metadata": {},
   "outputs": [],
   "source": [
    "import pandas as pd\n"
   ]
  },
  {
   "cell_type": "code",
   "execution_count": 2,
   "metadata": {},
   "outputs": [],
   "source": [
    "df = pd.read_csv('../sign/label_type/2011-12-01_0043-cam1-for-ss3_17582212_2290to2383.csv')"
   ]
  },
  {
   "cell_type": "code",
   "execution_count": 17,
   "metadata": {},
   "outputs": [
    {
     "name": "stdout",
     "output_type": "stream",
     "text": [
      "Lexical Signs\n",
      "Lexical Signs\n",
      "Lexical Signs\n",
      "Lexical Signs\n",
      "Lexical Signs\n",
      "Lexical Signs\n",
      "Lexical Signs\n",
      "Lexical Signs\n",
      "Lexical Signs\n",
      "Lexical Signs\n",
      "Lexical Signs\n"
     ]
    }
   ],
   "source": [
    "for i in range(len(df)):\n",
    "    print(df['SIGN_TYPE'][i])"
   ]
  },
  {
   "cell_type": "code",
   "execution_count": null,
   "metadata": {},
   "outputs": [],
   "source": []
  }
 ],
 "metadata": {
  "kernelspec": {
   "display_name": "Python 3",
   "language": "python",
   "name": "python3"
  },
  "language_info": {
   "codemirror_mode": {
    "name": "ipython",
    "version": 3
   },
   "file_extension": ".py",
   "mimetype": "text/x-python",
   "name": "python",
   "nbconvert_exporter": "python",
   "pygments_lexer": "ipython3",
   "version": "3.7.3"
  }
 },
 "nbformat": 4,
 "nbformat_minor": 2
}
