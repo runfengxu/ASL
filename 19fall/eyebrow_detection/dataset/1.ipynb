{
 "cells": [
  {
   "cell_type": "code",
   "execution_count": 1,
   "metadata": {},
   "outputs": [],
   "source": [
    "import scipy.io as scio\n",
    "import os\n",
    "import random"
   ]
  },
  {
   "cell_type": "code",
   "execution_count": 2,
   "metadata": {},
   "outputs": [],
   "source": [
    "data = scio.loadmat('bilstm_pred.mat')"
   ]
  },
  {
   "cell_type": "code",
   "execution_count": 7,
   "metadata": {},
   "outputs": [],
   "source": [
    "files = os.listdir('test')\n",
    "utterance = {}\n",
    "for file in files:\n",
    "    if file.split('cam2')[0] not in utterance.keys():\n",
    "        utterance[file.split('cam2')[0]]={}\n",
    "    utterance[file.split('cam2')[0]][(file.split('_')[-1].split('to')[0],file.split('to')[-1].split('.mat')[0])]=[]"
   ]
  },
  {
   "cell_type": "code",
   "execution_count": 13,
   "metadata": {},
   "outputs": [],
   "source": [
    "for i in range(len(data['path'])):\n",
    "    video = data['path'][i][7:].split('cam2')[0]\n",
    "    frame = data['path'][i][7:].split('frame')[1].split('.jpg')[0]\n",
    "    for j in utterance[video].keys():\n",
    "        if int(j[0])<=int(frame) and int(j[1])>=int(frame):\n",
    "            utterance[video][j].append((data['path'][i],data['gt'][0][i],data['pred'][0][i]))"
   ]
  },
  {
   "cell_type": "code",
   "execution_count": 31,
   "metadata": {},
   "outputs": [],
   "source": [
    "for i in utterance.keys():\n",
    "    for j in utterance[i].keys():\n",
    "        gt = []\n",
    "        pred = []\n",
    "        path=[]\n",
    "        for k in utterance[i][j]:\n",
    "            gt.append(k[1])\n",
    "            pred.append(k[2])\n",
    "            path.append(k[0])\n",
    "        scio.savemat('result/'+i+\"cam2-for-ss3_\"+j[0]+\"to\"+j[1]+'.mat',{'gt':gt,'path':path,'pred':pred})"
   ]
  },
  {
   "cell_type": "code",
   "execution_count": 3,
   "metadata": {},
   "outputs": [],
   "source": [
    "data1 = scio.loadmat('train2.mat')"
   ]
  },
  {
   "cell_type": "code",
   "execution_count": 4,
   "metadata": {},
   "outputs": [],
   "source": [
    "data2 = scio.loadmat('test2.mat')"
   ]
  },
  {
   "cell_type": "code",
   "execution_count": 15,
   "metadata": {},
   "outputs": [],
   "source": [
    "data3 = scio.loadmat('train.mat')"
   ]
  },
  {
   "cell_type": "code",
   "execution_count": 21,
   "metadata": {},
   "outputs": [
    {
     "data": {
      "text/plain": [
       "True"
      ]
     },
     "execution_count": 21,
     "metadata": {},
     "output_type": "execute_result"
    }
   ],
   "source": [
    "data2['img_file'][10] in data1['img_file']"
   ]
  },
  {
   "cell_type": "code",
   "execution_count": 19,
   "metadata": {},
   "outputs": [
    {
     "data": {
      "text/plain": [
       "array([['frames/2012-02-09_0058-cam2-for-ss3/frame4918.jpg    ',\n",
       "        'frames/2012-02-09_0058-cam2-for-ss3/frame4919.jpg    ',\n",
       "        'frames/2012-02-09_0058-cam2-for-ss3/frame4920.jpg    ', ...,\n",
       "        'frames/2012-02-09_0058-cam2-for-ss3/frame4922.jpg    ',\n",
       "        'frames/2012-02-09_0058-cam2-for-ss3/frame4923.jpg    ',\n",
       "        'frames/2012-02-09_0058-cam2-for-ss3/frame4924.jpg    '],\n",
       "       ['frames/2012-02-09_0058-cam2-for-ss3/frame4919.jpg    ',\n",
       "        'frames/2012-02-09_0058-cam2-for-ss3/frame4920.jpg    ',\n",
       "        'frames/2012-02-09_0058-cam2-for-ss3/frame4921.jpg    ', ...,\n",
       "        'frames/2012-02-09_0058-cam2-for-ss3/frame4923.jpg    ',\n",
       "        'frames/2012-02-09_0058-cam2-for-ss3/frame4924.jpg    ',\n",
       "        'frames/2012-02-09_0058-cam2-for-ss3/frame4925.jpg    '],\n",
       "       ['frames/2012-02-09_0058-cam2-for-ss3/frame4920.jpg    ',\n",
       "        'frames/2012-02-09_0058-cam2-for-ss3/frame4921.jpg    ',\n",
       "        'frames/2012-02-09_0058-cam2-for-ss3/frame4922.jpg    ', ...,\n",
       "        'frames/2012-02-09_0058-cam2-for-ss3/frame4924.jpg    ',\n",
       "        'frames/2012-02-09_0058-cam2-for-ss3/frame4925.jpg    ',\n",
       "        'frames/2012-02-09_0058-cam2-for-ss3/frame4926.jpg    '],\n",
       "       ...,\n",
       "       ['frames/2012-01-27_0050-cam2-for-ss3/frame2007.jpg    ',\n",
       "        'frames/2012-01-27_0050-cam2-for-ss3/frame2008.jpg    ',\n",
       "        'frames/2012-01-27_0050-cam2-for-ss3/frame2009.jpg    ', ...,\n",
       "        'frames/2012-01-27_0050-cam2-for-ss3/frame2011.jpg    ',\n",
       "        'frames/2012-01-27_0050-cam2-for-ss3/frame2012.jpg    ',\n",
       "        'frames/2012-01-27_0050-cam2-for-ss3/frame2013.jpg    '],\n",
       "       ['frames/2012-01-27_0050-cam2-for-ss3/frame2008.jpg    ',\n",
       "        'frames/2012-01-27_0050-cam2-for-ss3/frame2009.jpg    ',\n",
       "        'frames/2012-01-27_0050-cam2-for-ss3/frame2010.jpg    ', ...,\n",
       "        'frames/2012-01-27_0050-cam2-for-ss3/frame2012.jpg    ',\n",
       "        'frames/2012-01-27_0050-cam2-for-ss3/frame2013.jpg    ',\n",
       "        'frames/2012-01-27_0050-cam2-for-ss3/frame2014.jpg    '],\n",
       "       ['frames/2012-01-27_0050-cam2-for-ss3/frame2009.jpg    ',\n",
       "        'frames/2012-01-27_0050-cam2-for-ss3/frame2010.jpg    ',\n",
       "        'frames/2012-01-27_0050-cam2-for-ss3/frame2011.jpg    ', ...,\n",
       "        'frames/2012-01-27_0050-cam2-for-ss3/frame2013.jpg    ',\n",
       "        'frames/2012-01-27_0050-cam2-for-ss3/frame2014.jpg    ',\n",
       "        'frames/2012-01-27_0050-cam2-for-ss3/frame2015.jpg    ']],\n",
       "      dtype='<U53')"
      ]
     },
     "execution_count": 19,
     "metadata": {},
     "output_type": "execute_result"
    }
   ],
   "source": [
    "data2['img_file']"
   ]
  },
  {
   "cell_type": "code",
   "execution_count": null,
   "metadata": {},
   "outputs": [],
   "source": []
  }
 ],
 "metadata": {
  "kernelspec": {
   "display_name": "Python 3",
   "language": "python",
   "name": "python3"
  },
  "language_info": {
   "codemirror_mode": {
    "name": "ipython",
    "version": 3
   },
   "file_extension": ".py",
   "mimetype": "text/x-python",
   "name": "python",
   "nbconvert_exporter": "python",
   "pygments_lexer": "ipython3",
   "version": "3.7.3"
  }
 },
 "nbformat": 4,
 "nbformat_minor": 2
}
